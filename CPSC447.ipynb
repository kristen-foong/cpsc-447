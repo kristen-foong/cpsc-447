{
 "cells": [
  {
   "cell_type": "code",
   "execution_count": 1,
   "metadata": {},
   "outputs": [],
   "source": [
    "from hashlib import sha1\n",
    "import matplotlib.pyplot as plt\n",
    "import numpy as np\n",
    "import pandas as pd"
   ]
  },
  {
   "cell_type": "code",
   "execution_count": 2,
   "metadata": {},
   "outputs": [
    {
     "data": {
      "text/plain": [
       "(285504, 19)"
      ]
     },
     "execution_count": 2,
     "metadata": {},
     "output_type": "execute_result"
    }
   ],
   "source": [
    "movie_df = pd.read_csv(\"data/movie_data.csv\", lineterminator='\\n')\n",
    "sorted_movies_df = movie_df.sort_values(by=['vote_count'], ascending=False)\n",
    "movie_df.shape"
   ]
  },
  {
   "cell_type": "code",
   "execution_count": 3,
   "metadata": {},
   "outputs": [
    {
     "data": {
      "text/html": [
       "<div>\n",
       "<style scoped>\n",
       "    .dataframe tbody tr th:only-of-type {\n",
       "        vertical-align: middle;\n",
       "    }\n",
       "\n",
       "    .dataframe tbody tr th {\n",
       "        vertical-align: top;\n",
       "    }\n",
       "\n",
       "    .dataframe thead th {\n",
       "        text-align: right;\n",
       "    }\n",
       "</style>\n",
       "<table border=\"1\" class=\"dataframe\">\n",
       "  <thead>\n",
       "    <tr style=\"text-align: right;\">\n",
       "      <th></th>\n",
       "      <th>_id</th>\n",
       "      <th>genres</th>\n",
       "      <th>image_url</th>\n",
       "      <th>imdb_id</th>\n",
       "      <th>imdb_link</th>\n",
       "      <th>movie_id</th>\n",
       "      <th>movie_title</th>\n",
       "      <th>original_language</th>\n",
       "      <th>overview</th>\n",
       "      <th>popularity</th>\n",
       "      <th>production_countries</th>\n",
       "      <th>release_date</th>\n",
       "      <th>runtime</th>\n",
       "      <th>spoken_languages</th>\n",
       "      <th>tmdb_id</th>\n",
       "      <th>tmdb_link</th>\n",
       "      <th>vote_average</th>\n",
       "      <th>vote_count</th>\n",
       "      <th>year_released</th>\n",
       "    </tr>\n",
       "  </thead>\n",
       "  <tbody>\n",
       "    <tr>\n",
       "      <th>42247</th>\n",
       "      <td>5fc870ea6758f69634940263</td>\n",
       "      <td>[\"Action\",\"Science Fiction\",\"Adventure\"]</td>\n",
       "      <td>sm/upload/sv/95/s9/4j/inception-0-230-0-345-crop</td>\n",
       "      <td>tt1375666</td>\n",
       "      <td>http://www.imdb.com/title/tt1375666/maindetails</td>\n",
       "      <td>inception</td>\n",
       "      <td>Inception</td>\n",
       "      <td>en</td>\n",
       "      <td>Cobb, a skilled thief who commits corporate es...</td>\n",
       "      <td>116.222</td>\n",
       "      <td>[\"United Kingdom\",\"United States of America\"]</td>\n",
       "      <td>2010-07-15</td>\n",
       "      <td>148.0</td>\n",
       "      <td>[\"English\",\"日本語\"]</td>\n",
       "      <td>27205.0</td>\n",
       "      <td>https://www.themoviedb.org/movie/27205/</td>\n",
       "      <td>8.3</td>\n",
       "      <td>30211.0</td>\n",
       "      <td>2010.0</td>\n",
       "    </tr>\n",
       "    <tr>\n",
       "      <th>40583</th>\n",
       "      <td>5fc870ba6758f6963492ee7e</td>\n",
       "      <td>[\"Adventure\",\"Drama\",\"Science Fiction\"]</td>\n",
       "      <td>film-poster/1/1/7/6/2/1/117621-interstellar-0-...</td>\n",
       "      <td>tt0816692</td>\n",
       "      <td>http://www.imdb.com/title/tt0816692/maindetails</td>\n",
       "      <td>interstellar</td>\n",
       "      <td>Interstellar</td>\n",
       "      <td>en</td>\n",
       "      <td>The adventures of a group of explorers who mak...</td>\n",
       "      <td>89.564</td>\n",
       "      <td>[\"United Kingdom\",\"United States of America\"]</td>\n",
       "      <td>2014-11-05</td>\n",
       "      <td>169.0</td>\n",
       "      <td>[\"English\"]</td>\n",
       "      <td>157336.0</td>\n",
       "      <td>https://www.themoviedb.org/movie/157336/</td>\n",
       "      <td>8.3</td>\n",
       "      <td>27020.0</td>\n",
       "      <td>2014.0</td>\n",
       "    </tr>\n",
       "    <tr>\n",
       "      <th>82034</th>\n",
       "      <td>5fc875f86758f69634ae3423</td>\n",
       "      <td>[\"Drama\",\"Action\",\"Crime\",\"Thriller\"]</td>\n",
       "      <td>sm/upload/78/y5/zg/ej/oefdD26aey8GPdx7Rm45PNnc...</td>\n",
       "      <td>tt0468569</td>\n",
       "      <td>http://www.imdb.com/title/tt0468569/maindetails</td>\n",
       "      <td>the-dark-knight</td>\n",
       "      <td>The Dark Knight</td>\n",
       "      <td>en</td>\n",
       "      <td>Batman raises the stakes in his war on crime. ...</td>\n",
       "      <td>49.289</td>\n",
       "      <td>[\"United Kingdom\",\"United States of America\"]</td>\n",
       "      <td>2008-07-14</td>\n",
       "      <td>152.0</td>\n",
       "      <td>[\"English\",\"普通话\"]</td>\n",
       "      <td>155.0</td>\n",
       "      <td>https://www.themoviedb.org/movie/155/</td>\n",
       "      <td>8.5</td>\n",
       "      <td>26173.0</td>\n",
       "      <td>2008.0</td>\n",
       "    </tr>\n",
       "  </tbody>\n",
       "</table>\n",
       "</div>"
      ],
      "text/plain": [
       "                            _id                                    genres  \\\n",
       "42247  5fc870ea6758f69634940263  [\"Action\",\"Science Fiction\",\"Adventure\"]   \n",
       "40583  5fc870ba6758f6963492ee7e   [\"Adventure\",\"Drama\",\"Science Fiction\"]   \n",
       "82034  5fc875f86758f69634ae3423     [\"Drama\",\"Action\",\"Crime\",\"Thriller\"]   \n",
       "\n",
       "                                               image_url    imdb_id  \\\n",
       "42247   sm/upload/sv/95/s9/4j/inception-0-230-0-345-crop  tt1375666   \n",
       "40583  film-poster/1/1/7/6/2/1/117621-interstellar-0-...  tt0816692   \n",
       "82034  sm/upload/78/y5/zg/ej/oefdD26aey8GPdx7Rm45PNnc...  tt0468569   \n",
       "\n",
       "                                             imdb_link         movie_id  \\\n",
       "42247  http://www.imdb.com/title/tt1375666/maindetails        inception   \n",
       "40583  http://www.imdb.com/title/tt0816692/maindetails     interstellar   \n",
       "82034  http://www.imdb.com/title/tt0468569/maindetails  the-dark-knight   \n",
       "\n",
       "           movie_title original_language  \\\n",
       "42247        Inception                en   \n",
       "40583     Interstellar                en   \n",
       "82034  The Dark Knight                en   \n",
       "\n",
       "                                                overview  popularity  \\\n",
       "42247  Cobb, a skilled thief who commits corporate es...     116.222   \n",
       "40583  The adventures of a group of explorers who mak...      89.564   \n",
       "82034  Batman raises the stakes in his war on crime. ...      49.289   \n",
       "\n",
       "                                production_countries release_date  runtime  \\\n",
       "42247  [\"United Kingdom\",\"United States of America\"]   2010-07-15    148.0   \n",
       "40583  [\"United Kingdom\",\"United States of America\"]   2014-11-05    169.0   \n",
       "82034  [\"United Kingdom\",\"United States of America\"]   2008-07-14    152.0   \n",
       "\n",
       "        spoken_languages   tmdb_id                                 tmdb_link  \\\n",
       "42247  [\"English\",\"日本語\"]   27205.0   https://www.themoviedb.org/movie/27205/   \n",
       "40583        [\"English\"]  157336.0  https://www.themoviedb.org/movie/157336/   \n",
       "82034  [\"English\",\"普通话\"]     155.0     https://www.themoviedb.org/movie/155/   \n",
       "\n",
       "       vote_average  vote_count  year_released  \n",
       "42247           8.3     30211.0         2010.0  \n",
       "40583           8.3     27020.0         2014.0  \n",
       "82034           8.5     26173.0         2008.0  "
      ]
     },
     "execution_count": 3,
     "metadata": {},
     "output_type": "execute_result"
    }
   ],
   "source": [
    "sorted_movies_df.head(3)"
   ]
  },
  {
   "cell_type": "code",
   "execution_count": 4,
   "metadata": {},
   "outputs": [
    {
     "name": "stdout",
     "output_type": "stream",
     "text": [
      "(285504,)\n"
     ]
    }
   ],
   "source": [
    "# Get dataset metadata\n",
    "print(sorted_movies_df['_id'].value_counts(dropna=False).shape)"
   ]
  },
  {
   "cell_type": "code",
   "execution_count": 5,
   "metadata": {},
   "outputs": [
    {
     "name": "stdout",
     "output_type": "stream",
     "text": [
      "set(['', 'a', '\"Music\"', '\"Adventure\"', '\"Crime\"', '\"Action\"', '\"Drama\"', '\"Mystery\"', '\"Comedy\"', '\"TV Movie\"', '\"Animation\"', '\"War\"', '\"Western\"', '\"Fantasy\"', '\"History\"', '\"Science Fiction\"', '\"Thriller\"', '\"Documentary\"', '\"Family\"', '\"Romance\"', '\"Horror\"'])\n",
      "248\n",
      "82\n"
     ]
    }
   ],
   "source": [
    "# genres\n",
    "cleaned_genres = sorted_movies_df['genres'].unique()\n",
    "total_genres = []\n",
    "for entry in cleaned_genres:\n",
    "    entry_genres = str(entry)[1:-1].split(',')\n",
    "    \n",
    "    for genre in entry_genres:\n",
    "        total_genres.append(genre)\n",
    "\n",
    "print(set(total_genres))\n",
    "\n",
    "# production countries\n",
    "cleaned_prod_countries = sorted_movies_df['production_countries'].unique()\n",
    "total_prod_countries = []\n",
    "for entry in cleaned_prod_countries:\n",
    "    prod_countries = str(entry)[1:-1].split(',')\n",
    "    \n",
    "    for country in prod_countries:\n",
    "        total_prod_countries.append(country)\n",
    "\n",
    "print(len(set(total_prod_countries)))\n",
    "\n",
    "# spoken languages\n",
    "cleaned_spoken_languages = sorted_movies_df['spoken_languages'].unique()\n",
    "total_spoken_languages = []\n",
    "for entry in cleaned_spoken_languages:\n",
    "    spoken_languages = str(entry)[1:-1].split(',')\n",
    "    \n",
    "    for language in spoken_languages:\n",
    "        total_spoken_languages.append(language)\n",
    "\n",
    "print(len(set(total_spoken_languages)))"
   ]
  },
  {
   "cell_type": "code",
   "execution_count": 6,
   "metadata": {},
   "outputs": [
    {
     "name": "stdout",
     "output_type": "stream",
     "text": [
      "Num image_url: (258035,)\n",
      "Num imdb_id: (237341,)\n",
      "Num imdb_link: (237341,)\n",
      "Num movie_id: (285503,)\n",
      "Num movie_title: (244168,)\n",
      "Num original_language: (148,)\n",
      "Num overview: (252495,)\n",
      "Num popularity: (16814,)\n",
      "Num production_countries: (6591,)\n",
      "Num release_date: (36390,)\n",
      "Num runtime: (452,)\n",
      "Num spoken_languages: (4209,)\n",
      "Num tmdb_id: (272991,)\n",
      "Num tmbdb_link: (272991,)\n",
      "Num vote_average: (97,)\n",
      "Num vote_count: (3211,)\n",
      "Num year_released: (150,)\n"
     ]
    }
   ],
   "source": [
    "print(\"Num image_url: \" + str(sorted_movies_df['image_url'].value_counts(dropna=False).shape))\n",
    "print(\"Num imdb_id: \" + str(sorted_movies_df['imdb_id'].value_counts(dropna=False).shape))\n",
    "print(\"Num imdb_link: \" + str(sorted_movies_df['imdb_link'].value_counts(dropna=False).shape))\n",
    "print(\"Num movie_id: \" + str(sorted_movies_df['movie_id'].value_counts(dropna=False).shape))\n",
    "print(\"Num movie_title: \" + str(sorted_movies_df['movie_title'].value_counts(dropna=False).shape))\n",
    "print(\"Num original_language: \" + str(sorted_movies_df['original_language'].value_counts(dropna=False).shape))\n",
    "print(\"Num overview: \" + str(sorted_movies_df['overview'].value_counts(dropna=False).shape))\n",
    "print(\"Num popularity: \" + str(sorted_movies_df['popularity'].value_counts(dropna=False).shape))\n",
    "print(\"Num production_countries: \" + str(sorted_movies_df['production_countries'].value_counts(dropna=False).shape))\n",
    "print(\"Num release_date: \" + str(sorted_movies_df['release_date'].value_counts(dropna=False).shape))\n",
    "print(\"Num runtime: \" + str(sorted_movies_df['runtime'].value_counts(dropna=False).shape))\n",
    "print(\"Num spoken_languages: \" + str(sorted_movies_df['spoken_languages'].value_counts(dropna=False).shape))\n",
    "print(\"Num tmdb_id: \" + str(sorted_movies_df['tmdb_id'].value_counts(dropna=False).shape))\n",
    "print(\"Num tmbdb_link: \" + str(sorted_movies_df['tmdb_link'].value_counts(dropna=False).shape))\n",
    "print(\"Num vote_average: \" + str(sorted_movies_df['vote_average'].value_counts(dropna=False).shape))\n",
    "print(\"Num vote_count: \" + str(sorted_movies_df['vote_count'].value_counts(dropna=False).shape))\n",
    "print(\"Num year_released: \" + str(sorted_movies_df['year_released'].value_counts(dropna=False).shape))"
   ]
  },
  {
   "cell_type": "code",
   "execution_count": 7,
   "metadata": {},
   "outputs": [
    {
     "name": "stdout",
     "output_type": "stream",
     "text": [
      "do nothing\n",
      "1874-12-09\n",
      "2028-12-20\n"
     ]
    }
   ],
   "source": [
    "from datetime import datetime\n",
    "dates = []\n",
    "for date_str in sorted_movies_df['release_date'].unique():\n",
    "    if str(date_str) == \"nan\":\n",
    "        print(\"do nothing\")\n",
    "    else:\n",
    "        dates.append(datetime.strptime(str(date_str), \"%Y-%m-%d\").date())\n",
    "print(min(dates))\n",
    "print(max(dates))"
   ]
  },
  {
   "cell_type": "code",
   "execution_count": 8,
   "metadata": {},
   "outputs": [
    {
     "name": "stdout",
     "output_type": "stream",
     "text": [
      "1874.0\n",
      "2028.0\n"
     ]
    }
   ],
   "source": [
    "col = 'year_released'\n",
    "print(min(sorted_movies_df[col].unique()))\n",
    "print(max(sorted_movies_df[col].unique()))"
   ]
  },
  {
   "cell_type": "code",
   "execution_count": 9,
   "metadata": {},
   "outputs": [
    {
     "data": {
      "text/plain": [
       "(11078167, 4)"
      ]
     },
     "execution_count": 9,
     "metadata": {},
     "output_type": "execute_result"
    }
   ],
   "source": [
    "ratings_df = pd.read_csv(\"data/ratings_export.csv\", lineterminator='\\n')\n",
    "ratings_df.shape"
   ]
  },
  {
   "cell_type": "code",
   "execution_count": 10,
   "metadata": {},
   "outputs": [
    {
     "data": {
      "text/html": [
       "<div>\n",
       "<style scoped>\n",
       "    .dataframe tbody tr th:only-of-type {\n",
       "        vertical-align: middle;\n",
       "    }\n",
       "\n",
       "    .dataframe tbody tr th {\n",
       "        vertical-align: top;\n",
       "    }\n",
       "\n",
       "    .dataframe thead th {\n",
       "        text-align: right;\n",
       "    }\n",
       "</style>\n",
       "<table border=\"1\" class=\"dataframe\">\n",
       "  <thead>\n",
       "    <tr style=\"text-align: right;\">\n",
       "      <th></th>\n",
       "      <th>_id</th>\n",
       "      <th>movie_id</th>\n",
       "      <th>rating_val</th>\n",
       "      <th>user_id</th>\n",
       "    </tr>\n",
       "  </thead>\n",
       "  <tbody>\n",
       "    <tr>\n",
       "      <th>0</th>\n",
       "      <td>5fc57c5d6758f6963451a07f</td>\n",
       "      <td>feast-2014</td>\n",
       "      <td>7</td>\n",
       "      <td>deathproof</td>\n",
       "    </tr>\n",
       "    <tr>\n",
       "      <th>1</th>\n",
       "      <td>5fc57c5d6758f6963451a063</td>\n",
       "      <td>loving-2016</td>\n",
       "      <td>7</td>\n",
       "      <td>deathproof</td>\n",
       "    </tr>\n",
       "    <tr>\n",
       "      <th>2</th>\n",
       "      <td>5fc57c5d6758f6963451a0ef</td>\n",
       "      <td>scripted-content</td>\n",
       "      <td>7</td>\n",
       "      <td>deathproof</td>\n",
       "    </tr>\n",
       "  </tbody>\n",
       "</table>\n",
       "</div>"
      ],
      "text/plain": [
       "                        _id          movie_id  rating_val     user_id\n",
       "0  5fc57c5d6758f6963451a07f        feast-2014           7  deathproof\n",
       "1  5fc57c5d6758f6963451a063       loving-2016           7  deathproof\n",
       "2  5fc57c5d6758f6963451a0ef  scripted-content           7  deathproof"
      ]
     },
     "execution_count": 10,
     "metadata": {},
     "output_type": "execute_result"
    }
   ],
   "source": [
    "ratings_df.head(3)"
   ]
  },
  {
   "cell_type": "code",
   "execution_count": 11,
   "metadata": {},
   "outputs": [
    {
     "name": "stdout",
     "output_type": "stream",
     "text": [
      "Num _id: (11078167,)\n",
      "Num movie_id: (286071,)\n",
      "Num user_id: (7477,)\n",
      "Num rating_val: (10,)\n"
     ]
    }
   ],
   "source": [
    "print(\"Num _id: \" + str(ratings_df['_id'].value_counts(dropna=False).shape))\n",
    "print(\"Num movie_id: \" + str(ratings_df['movie_id'].value_counts(dropna=False).shape))\n",
    "print(\"Num user_id: \" + str(ratings_df['user_id'].value_counts(dropna=False).shape))\n",
    "print(\"Num rating_val: \" + str(ratings_df['rating_val'].value_counts(dropna=False).shape))"
   ]
  },
  {
   "cell_type": "code",
   "execution_count": 12,
   "metadata": {},
   "outputs": [
    {
     "name": "stdout",
     "output_type": "stream",
     "text": [
      "1\n",
      "10\n"
     ]
    }
   ],
   "source": [
    "print(min(ratings_df['rating_val'].unique()))\n",
    "print(max(ratings_df['rating_val'].unique()))"
   ]
  },
  {
   "cell_type": "code",
   "execution_count": 13,
   "metadata": {},
   "outputs": [
    {
     "data": {
      "text/plain": [
       "(8139, 5)"
      ]
     },
     "execution_count": 13,
     "metadata": {},
     "output_type": "execute_result"
    }
   ],
   "source": [
    "users_df = pd.read_csv(\"data/users_export.csv\")\n",
    "users_df.shape"
   ]
  },
  {
   "cell_type": "code",
   "execution_count": 14,
   "metadata": {},
   "outputs": [
    {
     "data": {
      "text/html": [
       "<div>\n",
       "<style scoped>\n",
       "    .dataframe tbody tr th:only-of-type {\n",
       "        vertical-align: middle;\n",
       "    }\n",
       "\n",
       "    .dataframe tbody tr th {\n",
       "        vertical-align: top;\n",
       "    }\n",
       "\n",
       "    .dataframe thead th {\n",
       "        text-align: right;\n",
       "    }\n",
       "</style>\n",
       "<table border=\"1\" class=\"dataframe\">\n",
       "  <thead>\n",
       "    <tr style=\"text-align: right;\">\n",
       "      <th></th>\n",
       "      <th>_id</th>\n",
       "      <th>display_name</th>\n",
       "      <th>num_ratings_pages</th>\n",
       "      <th>num_reviews</th>\n",
       "      <th>username</th>\n",
       "    </tr>\n",
       "  </thead>\n",
       "  <tbody>\n",
       "    <tr>\n",
       "      <th>0</th>\n",
       "      <td>5fc4172ec6cd28ebd99dd0e2</td>\n",
       "      <td>Lucy</td>\n",
       "      <td>32.0</td>\n",
       "      <td>1650</td>\n",
       "      <td>deathproof</td>\n",
       "    </tr>\n",
       "    <tr>\n",
       "      <th>1</th>\n",
       "      <td>5fc4172ec6cd28ebd99dd0ea</td>\n",
       "      <td>Matt Singer</td>\n",
       "      <td>52.0</td>\n",
       "      <td>1915</td>\n",
       "      <td>superpulse</td>\n",
       "    </tr>\n",
       "    <tr>\n",
       "      <th>2</th>\n",
       "      <td>5fc4172ec6cd28ebd99dd0ed</td>\n",
       "      <td>Sean Baker</td>\n",
       "      <td>21.0</td>\n",
       "      <td>1283</td>\n",
       "      <td>lilfilm</td>\n",
       "    </tr>\n",
       "  </tbody>\n",
       "</table>\n",
       "</div>"
      ],
      "text/plain": [
       "                        _id display_name  num_ratings_pages  num_reviews  \\\n",
       "0  5fc4172ec6cd28ebd99dd0e2         Lucy               32.0         1650   \n",
       "1  5fc4172ec6cd28ebd99dd0ea  Matt Singer               52.0         1915   \n",
       "2  5fc4172ec6cd28ebd99dd0ed   Sean Baker               21.0         1283   \n",
       "\n",
       "     username  \n",
       "0  deathproof  \n",
       "1  superpulse  \n",
       "2     lilfilm  "
      ]
     },
     "execution_count": 14,
     "metadata": {},
     "output_type": "execute_result"
    }
   ],
   "source": [
    "users_df.head(3)"
   ]
  },
  {
   "cell_type": "code",
   "execution_count": 15,
   "metadata": {},
   "outputs": [
    {
     "name": "stdout",
     "output_type": "stream",
     "text": [
      "Num _id: (8139,)\n",
      "Num display_name: (7136,)\n",
      "Num num_ratings_pages: (178,)\n",
      "Num num_reviews: (2416,)\n",
      "Num username: (8139,)\n"
     ]
    }
   ],
   "source": [
    "print(\"Num _id: \" + str(users_df['_id'].value_counts(dropna=False).shape))\n",
    "print(\"Num display_name: \" + str(users_df['display_name'].value_counts(dropna=False).shape))\n",
    "print(\"Num num_ratings_pages: \" + str(users_df['num_ratings_pages'].value_counts(dropna=False).shape))\n",
    "print(\"Num num_reviews: \" + str(users_df['num_reviews'].value_counts(dropna=False).shape))\n",
    "print(\"Num username: \" + str(users_df['username'].value_counts(dropna=False).shape))"
   ]
  },
  {
   "cell_type": "code",
   "execution_count": 16,
   "metadata": {},
   "outputs": [
    {
     "name": "stdout",
     "output_type": "stream",
     "text": [
      "Done\n"
     ]
    }
   ],
   "source": [
    "# users_df, movie_df, ratings_df\n",
    "\n",
    "# process data\n",
    "movie_cols = ['_id', 'movie_id']\n",
    "irrelevant_movie_cols = ['imdb_id', 'imdb_link', 'tmdb_id', 'tmdb_link', 'image_url']\n",
    "\n",
    "movie_df = movie_df.drop(labels=irrelevant_movie_cols, axis=1)\n",
    "movie_df.dropna(subset=movie_cols, inplace=True)\n",
    "\n",
    "# Get top n users\n",
    "n = 100\n",
    "top_users = users_df.sort_values(by=['num_reviews'], ascending=False).head(n)\n",
    "top_users.rename(columns={'username': 'user_id'}, inplace=True)\n",
    "\n",
    "# Get all ratings from top users\n",
    "relevant_ratings = ratings_df[ratings_df['user_id'].isin(top_users['user_id'])]\n",
    "\n",
    "# Get only movies that were rated by top users\n",
    "rated_movies = relevant_ratings['movie_id'].unique()\n",
    "relevant_movies = movie_df[movie_df['movie_id'].isin(rated_movies)]\n",
    "\n",
    "# Get all runtimes for rated movies\n",
    "relevant_ratings = relevant_ratings.merge(relevant_movies[['movie_id','runtime']], on=['movie_id'], how='left')\n",
    "relevant_ratings['runtime'].fillna(0, inplace=True)\n",
    "watchtimes = relevant_ratings.groupby('user_id', as_index=False).sum()\n",
    "\n",
    "# Fill total watchtime for each user\n",
    "top_users = top_users.merge(watchtimes[['user_id', 'runtime']], on=['user_id'], how='left')\n",
    "top_users.rename(columns={'runtime': 'total_watchtime'}, inplace=True)\n",
    "\n",
    "# Save to JSON\n",
    "top_users.to_json(r'./data/users.json', orient='records')\n",
    "relevant_movies.to_json(r'./data/movie_data.json', orient='records')\n",
    "relevant_ratings.to_json(r'./data/ratings.json', orient='records')\n",
    "\n",
    "print(\"Done\")"
   ]
  },
  {
   "cell_type": "code",
   "execution_count": null,
   "metadata": {},
   "outputs": [],
   "source": []
  },
  {
   "cell_type": "code",
   "execution_count": null,
   "metadata": {},
   "outputs": [],
   "source": []
  }
 ],
 "metadata": {
  "kernelspec": {
   "display_name": "Python 2",
   "language": "python",
   "name": "python2"
  },
  "language_info": {
   "codemirror_mode": {
    "name": "ipython",
    "version": 2
   },
   "file_extension": ".py",
   "mimetype": "text/x-python",
   "name": "python",
   "nbconvert_exporter": "python",
   "pygments_lexer": "ipython2",
   "version": "2.7.18"
  }
 },
 "nbformat": 4,
 "nbformat_minor": 5
}
